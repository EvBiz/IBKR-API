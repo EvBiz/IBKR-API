{
 "cells": [
  {
   "cell_type": "markdown",
   "id": "93d5b711",
   "metadata": {},
   "source": [
    "# IBKR API"
   ]
  },
  {
   "cell_type": "code",
   "execution_count": 2,
   "id": "baf99800",
   "metadata": {},
   "outputs": [],
   "source": [
    "import pandas as pd\n",
    "import numpy as np\n",
    "import matplotlib.pyplot as plt\n",
    "%matplotlib inline\n",
    "import yfinance as yf\n",
    "import bt\n",
    "from ib_insync import *\n",
    "import nest_asyncio\n",
    "import logging\n",
    "import datetime\n",
    "import schedule\n",
    "import time"
   ]
  },
  {
   "cell_type": "code",
   "execution_count": 6,
   "id": "850d3074",
   "metadata": {},
   "outputs": [
    {
     "data": {
      "text/plain": [
       "<IB connected to 127.0.0.1:7497 clientId=3>"
      ]
     },
     "execution_count": 6,
     "metadata": {},
     "output_type": "execute_result"
    }
   ],
   "source": [
    "nest_asyncio.apply()\n",
    "\n",
    "# Connect to TWS (or gateway)\n",
    "ib = IB()\n",
    "\n",
    "ib.connect('127.0.0.1', 7497, clientId=3) #7497 - Paper Trading, 7496 - Live trading"
   ]
  },
  {
   "cell_type": "code",
   "execution_count": 7,
   "id": "4e0bb1cf",
   "metadata": {
    "scrolled": false
   },
   "outputs": [
    {
     "data": {
      "text/plain": [
       "[Future(conId=603558932, symbol='ES', lastTradeDateOrContractMonth='20250321', multiplier='50', exchange='CME', currency='USD', localSymbol='ESH5', tradingClass='ES')]"
      ]
     },
     "execution_count": 7,
     "metadata": {},
     "output_type": "execute_result"
    }
   ],
   "source": [
    "#Define ES contract\n",
    "contract = Future('ES', '202503', 'CME')\n",
    "\n",
    "# Define the stock contract for AAPL\n",
    "#contract = Stock('TSLA', 'SMART', 'USD')\n",
    "\n",
    "# Qualify the contract (ensures IB recognizes it)\n",
    "ib.qualifyContracts(contract)"
   ]
  },
  {
   "cell_type": "code",
   "execution_count": 8,
   "id": "8376d926",
   "metadata": {},
   "outputs": [],
   "source": [
    "quote = ib.reqMktData(contract, \"\", False, False)"
   ]
  },
  {
   "cell_type": "code",
   "execution_count": 13,
   "id": "e226fbb2",
   "metadata": {},
   "outputs": [
    {
     "name": "stdout",
     "output_type": "stream",
     "text": [
      "5978.5\n",
      "5978.5\n",
      "5978.5\n",
      "5978.5\n",
      "5978.5\n",
      "5978.5\n",
      "5978.5\n",
      "5978.5\n",
      "5978.5\n",
      "5978.5\n",
      "5978.5\n",
      "5978.5\n",
      "5978.5\n",
      "5978.5\n",
      "5978.5\n",
      "5978.5\n"
     ]
    },
    {
     "ename": "KeyboardInterrupt",
     "evalue": "",
     "output_type": "error",
     "traceback": [
      "\u001b[1;31m---------------------------------------------------------------------------\u001b[0m",
      "\u001b[1;31mKeyboardInterrupt\u001b[0m                         Traceback (most recent call last)",
      "\u001b[1;32m~\\AppData\\Local\\Temp\\ipykernel_72440\\3454618616.py\u001b[0m in \u001b[0;36m<module>\u001b[1;34m\u001b[0m\n\u001b[0;32m      7\u001b[0m \u001b[1;32mwhile\u001b[0m \u001b[1;32mTrue\u001b[0m\u001b[1;33m:\u001b[0m\u001b[1;33m\u001b[0m\u001b[1;33m\u001b[0m\u001b[0m\n\u001b[0;32m      8\u001b[0m     \u001b[0mschedule\u001b[0m\u001b[1;33m.\u001b[0m\u001b[0mrun_pending\u001b[0m\u001b[1;33m(\u001b[0m\u001b[1;33m)\u001b[0m\u001b[1;33m\u001b[0m\u001b[1;33m\u001b[0m\u001b[0m\n\u001b[1;32m----> 9\u001b[1;33m     \u001b[0mtime\u001b[0m\u001b[1;33m.\u001b[0m\u001b[0msleep\u001b[0m\u001b[1;33m(\u001b[0m\u001b[1;36m0.5\u001b[0m\u001b[1;33m)\u001b[0m\u001b[1;33m\u001b[0m\u001b[1;33m\u001b[0m\u001b[0m\n\u001b[0m",
      "\u001b[1;31mKeyboardInterrupt\u001b[0m: "
     ]
    }
   ],
   "source": [
    "def printBid():\n",
    "    print(quote.bid)\n",
    "\n",
    "# Print initially and then every second\n",
    "schedule.every(1).seconds.do(printBid)\n",
    "\n",
    "while True:\n",
    "    schedule.run_pending()\n",
    "    time.sleep(0.5)"
   ]
  },
  {
   "cell_type": "code",
   "execution_count": 177,
   "id": "8f7c27ba",
   "metadata": {},
   "outputs": [
    {
     "ename": "ValueError",
     "evalue": "cannot convert float NaN to integer",
     "output_type": "error",
     "traceback": [
      "\u001b[1;31m---------------------------------------------------------------------------\u001b[0m",
      "\u001b[1;31mValueError\u001b[0m                                Traceback (most recent call last)",
      "\u001b[1;32m~\\AppData\\Local\\Temp\\ipykernel_6336\\1843521042.py\u001b[0m in \u001b[0;36m<module>\u001b[1;34m\u001b[0m\n\u001b[0;32m      3\u001b[0m \u001b[1;33m\u001b[0m\u001b[0m\n\u001b[0;32m      4\u001b[0m \u001b[0mmidpoint\u001b[0m \u001b[1;33m=\u001b[0m \u001b[1;33m(\u001b[0m\u001b[0mquote\u001b[0m\u001b[1;33m.\u001b[0m\u001b[0mask\u001b[0m \u001b[1;33m+\u001b[0m \u001b[0mquote\u001b[0m\u001b[1;33m.\u001b[0m\u001b[0mbid\u001b[0m\u001b[1;33m)\u001b[0m\u001b[1;33m/\u001b[0m\u001b[1;36m2\u001b[0m\u001b[1;33m\u001b[0m\u001b[1;33m\u001b[0m\u001b[0m\n\u001b[1;32m----> 5\u001b[1;33m \u001b[0mmidpoint\u001b[0m \u001b[1;33m=\u001b[0m \u001b[0mround\u001b[0m\u001b[1;33m(\u001b[0m\u001b[0mmidpoint\u001b[0m \u001b[1;33m/\u001b[0m \u001b[1;36m0.25\u001b[0m\u001b[1;33m)\u001b[0m \u001b[1;33m*\u001b[0m \u001b[1;36m0.25\u001b[0m\u001b[1;33m\u001b[0m\u001b[1;33m\u001b[0m\u001b[0m\n\u001b[0m\u001b[0;32m      6\u001b[0m \u001b[1;33m\u001b[0m\u001b[0m\n\u001b[0;32m      7\u001b[0m \u001b[0morder\u001b[0m \u001b[1;33m=\u001b[0m \u001b[0mLimitOrder\u001b[0m\u001b[1;33m(\u001b[0m\u001b[1;34m\"Buy\"\u001b[0m\u001b[1;33m,\u001b[0m \u001b[1;36m1\u001b[0m\u001b[1;33m,\u001b[0m \u001b[0mmidpoint\u001b[0m\u001b[1;33m)\u001b[0m\u001b[1;33m\u001b[0m\u001b[1;33m\u001b[0m\u001b[0m\n",
      "\u001b[1;31mValueError\u001b[0m: cannot convert float NaN to integer"
     ]
    }
   ],
   "source": [
    "# request live market data from ib\n",
    "quote = ib.reqMktData(contract, \"\", False, False)\n",
    "\n",
    "midpoint = (quote.ask + quote.bid)/2\n",
    "midpoint = round(midpoint / 0.25) * 0.25\n",
    "\n",
    "order = LimitOrder(\"Buy\", 1, midpoint)\n",
    "\n",
    "ib.placeOrder(contract, order)"
   ]
  },
  {
   "cell_type": "code",
   "execution_count": 296,
   "id": "dfc00193",
   "metadata": {},
   "outputs": [
    {
     "name": "stdout",
     "output_type": "stream",
     "text": [
      "Order Sent\n",
      "Bid 18.91\n"
     ]
    }
   ],
   "source": [
    "# request live market data from ib\n",
    "quote = ib.reqMktData(contract, \"\", False, False)\n",
    "\n",
    "bid = quote.bid\n",
    "my_bid = quote.bid + 0.01\n",
    "\n",
    "order = LimitOrder(\"Buy\", 1, my_bid)\n",
    "\n",
    "ib.placeOrder(contract, order)\n",
    "print(\"Order Sent\")\n",
    "print(\"Bid\", quote.bid)"
   ]
  },
  {
   "cell_type": "code",
   "execution_count": 46,
   "id": "6fe0553d",
   "metadata": {},
   "outputs": [],
   "source": [
    "ib.disconnect()"
   ]
  },
  {
   "cell_type": "code",
   "execution_count": 89,
   "id": "3f2a1a96",
   "metadata": {},
   "outputs": [],
   "source": [
    "# Fetch historical data\n",
    "historical_data = ib.reqHistoricalData(\n",
    "    contract,\n",
    "    endDateTime='',          # Leave empty for the most recent data\n",
    "    durationStr='1 D',       # Look back 1 month\n",
    "    barSizeSetting='5 mins',  # Daily bars\n",
    "    whatToShow='TRADES',     # Show trade data (other options: MIDPOINT, BID, ASK)\n",
    "    useRTH=True              # Use Regular Trading Hours (RTH) only\n",
    ")"
   ]
  },
  {
   "cell_type": "code",
   "execution_count": 90,
   "id": "62c250b8",
   "metadata": {},
   "outputs": [],
   "source": [
    "# Convert the historical data to a pandas DataFrame\n",
    "df = util.df(historical_data)"
   ]
  },
  {
   "cell_type": "markdown",
   "id": "c22a8910",
   "metadata": {},
   "source": [
    "### Only do next step for intraday data:"
   ]
  },
  {
   "cell_type": "code",
   "execution_count": 91,
   "id": "f75c8d9c",
   "metadata": {},
   "outputs": [],
   "source": [
    "# Set date column as index\n",
    "df = df.set_index('date')\n",
    "#convert to EST timezone\n",
    "df.index = df.index.tz_convert('US/Eastern')"
   ]
  },
  {
   "cell_type": "code",
   "execution_count": 93,
   "id": "595991f4",
   "metadata": {},
   "outputs": [
    {
     "data": {
      "text/html": [
       "<div>\n",
       "<style scoped>\n",
       "    .dataframe tbody tr th:only-of-type {\n",
       "        vertical-align: middle;\n",
       "    }\n",
       "\n",
       "    .dataframe tbody tr th {\n",
       "        vertical-align: top;\n",
       "    }\n",
       "\n",
       "    .dataframe thead th {\n",
       "        text-align: right;\n",
       "    }\n",
       "</style>\n",
       "<table border=\"1\" class=\"dataframe\">\n",
       "  <thead>\n",
       "    <tr style=\"text-align: right;\">\n",
       "      <th></th>\n",
       "      <th>open</th>\n",
       "      <th>high</th>\n",
       "      <th>low</th>\n",
       "      <th>close</th>\n",
       "      <th>volume</th>\n",
       "      <th>average</th>\n",
       "      <th>barCount</th>\n",
       "    </tr>\n",
       "    <tr>\n",
       "      <th>date</th>\n",
       "      <th></th>\n",
       "      <th></th>\n",
       "      <th></th>\n",
       "      <th></th>\n",
       "      <th></th>\n",
       "      <th></th>\n",
       "      <th></th>\n",
       "    </tr>\n",
       "  </thead>\n",
       "  <tbody>\n",
       "    <tr>\n",
       "      <th>2025-02-24 09:30:00-05:00</th>\n",
       "      <td>6050.00</td>\n",
       "      <td>6060.00</td>\n",
       "      <td>6047.25</td>\n",
       "      <td>6051.00</td>\n",
       "      <td>39442.0</td>\n",
       "      <td>6053.000</td>\n",
       "      <td>13162</td>\n",
       "    </tr>\n",
       "    <tr>\n",
       "      <th>2025-02-24 09:35:00-05:00</th>\n",
       "      <td>6051.00</td>\n",
       "      <td>6051.75</td>\n",
       "      <td>6040.25</td>\n",
       "      <td>6042.25</td>\n",
       "      <td>33301.0</td>\n",
       "      <td>6045.125</td>\n",
       "      <td>11843</td>\n",
       "    </tr>\n",
       "    <tr>\n",
       "      <th>2025-02-24 09:40:00-05:00</th>\n",
       "      <td>6042.50</td>\n",
       "      <td>6045.50</td>\n",
       "      <td>6036.00</td>\n",
       "      <td>6040.25</td>\n",
       "      <td>31044.0</td>\n",
       "      <td>6040.975</td>\n",
       "      <td>10986</td>\n",
       "    </tr>\n",
       "    <tr>\n",
       "      <th>2025-02-24 09:45:00-05:00</th>\n",
       "      <td>6040.00</td>\n",
       "      <td>6043.00</td>\n",
       "      <td>6033.25</td>\n",
       "      <td>6035.75</td>\n",
       "      <td>26482.0</td>\n",
       "      <td>6038.475</td>\n",
       "      <td>8995</td>\n",
       "    </tr>\n",
       "    <tr>\n",
       "      <th>2025-02-24 09:50:00-05:00</th>\n",
       "      <td>6035.75</td>\n",
       "      <td>6036.00</td>\n",
       "      <td>6023.00</td>\n",
       "      <td>6025.75</td>\n",
       "      <td>34914.0</td>\n",
       "      <td>6029.075</td>\n",
       "      <td>10837</td>\n",
       "    </tr>\n",
       "  </tbody>\n",
       "</table>\n",
       "</div>"
      ],
      "text/plain": [
       "                              open     high      low    close   volume  \\\n",
       "date                                                                     \n",
       "2025-02-24 09:30:00-05:00  6050.00  6060.00  6047.25  6051.00  39442.0   \n",
       "2025-02-24 09:35:00-05:00  6051.00  6051.75  6040.25  6042.25  33301.0   \n",
       "2025-02-24 09:40:00-05:00  6042.50  6045.50  6036.00  6040.25  31044.0   \n",
       "2025-02-24 09:45:00-05:00  6040.00  6043.00  6033.25  6035.75  26482.0   \n",
       "2025-02-24 09:50:00-05:00  6035.75  6036.00  6023.00  6025.75  34914.0   \n",
       "\n",
       "                            average  barCount  \n",
       "date                                           \n",
       "2025-02-24 09:30:00-05:00  6053.000     13162  \n",
       "2025-02-24 09:35:00-05:00  6045.125     11843  \n",
       "2025-02-24 09:40:00-05:00  6040.975     10986  \n",
       "2025-02-24 09:45:00-05:00  6038.475      8995  \n",
       "2025-02-24 09:50:00-05:00  6029.075     10837  "
      ]
     },
     "execution_count": 93,
     "metadata": {},
     "output_type": "execute_result"
    }
   ],
   "source": [
    "df.head()"
   ]
  },
  {
   "cell_type": "code",
   "execution_count": 7,
   "id": "aa244dce",
   "metadata": {},
   "outputs": [],
   "source": [
    "# Configure logging to record potential trades\n",
    "logging.basicConfig(filename='paper_trades.log', level=logging.INFO)"
   ]
  },
  {
   "cell_type": "code",
   "execution_count": 8,
   "id": "fdd65a1f",
   "metadata": {
    "scrolled": true
   },
   "outputs": [
    {
     "name": "stdout",
     "output_type": "stream",
     "text": [
      "Not a trade day or time.\n"
     ]
    }
   ],
   "source": [
    "def execute_seasonality_trade():\n",
    "    today = datetime.datetime.now()\n",
    "    target_days = [5]  # Example trade days\n",
    "    trade_time = datetime.time(14, 49)  # Execute\n",
    "    \n",
    "    if today.day in target_days and today.time().hour == trade_time.hour and today.time().minute == trade_time.minute:\n",
    "        trade_details = f\"Paper Trade Log: {today.strftime('%Y-%m-%d %H:%M:%S')} - Buy ZO\"\n",
    "        print(trade_details)\n",
    "        logging.info(trade_details)\n",
    "\n",
    "        # Instead of placing an order, just log it\n",
    "        return\n",
    "\n",
    "    print(\"Not a trade day or time.\")\n",
    "    \n",
    "# Test function\n",
    "execute_seasonality_trade()"
   ]
  },
  {
   "cell_type": "markdown",
   "id": "bf3b1818",
   "metadata": {},
   "source": [
    "# Retrieve Front Month Contract"
   ]
  },
  {
   "cell_type": "code",
   "execution_count": 17,
   "id": "16abaff3",
   "metadata": {
    "scrolled": true
   },
   "outputs": [
    {
     "name": "stdout",
     "output_type": "stream",
     "text": [
      "Symbol: MNQH5, Expiry: 20250321\n",
      "Symbol: MNQM5, Expiry: 20250620\n",
      "Symbol: MNQU5, Expiry: 20250919\n",
      "Symbol: MNQZ5, Expiry: 20251219\n",
      "Symbol: MNQH6, Expiry: 20260320\n"
     ]
    }
   ],
   "source": [
    "# Define generic MNQ contract\n",
    "contract = Future(symbol=\"MNQ\", exchange=\"CME\")\n",
    "\n",
    "# Request all available MNQ contracts\n",
    "contracts = ib.reqContractDetails(contract)\n",
    "\n",
    "# Print all available contracts\n",
    "for c in contracts:\n",
    "    print(f\"Symbol: {c.contract.localSymbol}, Expiry: {c.contract.lastTradeDateOrContractMonth}\")"
   ]
  },
  {
   "cell_type": "code",
   "execution_count": 40,
   "id": "cc40a75a",
   "metadata": {},
   "outputs": [
    {
     "name": "stdout",
     "output_type": "stream",
     "text": [
      "Trade executed\n",
      "Stop loss order placed at 22041.5.\n"
     ]
    }
   ],
   "source": [
    "# Define IB contract\n",
    "front_month_contract = min(contracts, key=lambda c: c.contract.lastTradeDateOrContractMonth).contract\n",
    "\n",
    "order = MarketOrder(\"BUY\", 1)  # Buy 1 contract\n",
    "\n",
    "# Specify the adaptive algorithm:\n",
    "order.algoStrategy = \"Adaptive\"\n",
    "# Optionally, add algorithm parameters if needed. For example:\n",
    "order.algoParams = [TagValue(\"adaptivePriority\", \"Patient\")]\n",
    "\n",
    "trade = ib.placeOrder(front_month_contract, order)\n",
    "print(\"Trade executed\")\n",
    "\n",
    "# Wait briefly for the order to fill\n",
    "ib.sleep(5)\n",
    "\n",
    "# Check if the order filled & retrieve execution price\n",
    "if trade.fills:\n",
    "    entry_price = trade.fills[-1].execution.price # [-1] retrieves most recent fill\n",
    "    \n",
    "    stop_loss_price = entry_price - 75\n",
    "    \n",
    "    # Create a stop order to sell 1 contract at the rounded stop loss price\n",
    "    stop_order = StopOrder(\"SELL\", 1, stop_loss_price)\n",
    "    ib.placeOrder(front_month_contract, stop_order)\n",
    "    print(f\"Stop loss order placed at {stop_loss_price}.\")\n",
    "else:\n",
    "    print(\"Trade fill not received; stop loss order not placed.\")"
   ]
  },
  {
   "cell_type": "markdown",
   "id": "3a510f1d",
   "metadata": {},
   "source": [
    "# MNQ Overnight Algo"
   ]
  },
  {
   "cell_type": "code",
   "execution_count": 167,
   "id": "a833b1ac",
   "metadata": {},
   "outputs": [
    {
     "name": "stdout",
     "output_type": "stream",
     "text": [
      "No BUY Condition Met.\n"
     ]
    },
    {
     "ename": "KeyboardInterrupt",
     "evalue": "",
     "output_type": "error",
     "traceback": [
      "\u001b[1;31m---------------------------------------------------------------------------\u001b[0m",
      "\u001b[1;31mKeyboardInterrupt\u001b[0m                         Traceback (most recent call last)",
      "\u001b[1;32m~\\AppData\\Local\\Temp\\ipykernel_6336\\3924447357.py\u001b[0m in \u001b[0;36m<module>\u001b[1;34m\u001b[0m\n\u001b[0;32m     81\u001b[0m \u001b[1;32mwhile\u001b[0m \u001b[1;32mTrue\u001b[0m\u001b[1;33m:\u001b[0m\u001b[1;33m\u001b[0m\u001b[1;33m\u001b[0m\u001b[0m\n\u001b[0;32m     82\u001b[0m     \u001b[0mschedule\u001b[0m\u001b[1;33m.\u001b[0m\u001b[0mrun_pending\u001b[0m\u001b[1;33m(\u001b[0m\u001b[1;33m)\u001b[0m\u001b[1;33m\u001b[0m\u001b[1;33m\u001b[0m\u001b[0m\n\u001b[1;32m---> 83\u001b[1;33m     \u001b[0mtime\u001b[0m\u001b[1;33m.\u001b[0m\u001b[0msleep\u001b[0m\u001b[1;33m(\u001b[0m\u001b[1;36m0.50\u001b[0m\u001b[1;33m)\u001b[0m\u001b[1;33m\u001b[0m\u001b[1;33m\u001b[0m\u001b[0m\n\u001b[0m",
      "\u001b[1;31mKeyboardInterrupt\u001b[0m: "
     ]
    }
   ],
   "source": [
    "# Production Version\n",
    "\n",
    "# Initialize global flag\n",
    "last_buy_trade_date = None\n",
    "last_sell_trade_date = None\n",
    "\n",
    "def execute_buy_trade():\n",
    "    global last_buy_trade_date\n",
    "    now = datetime.datetime.now()\n",
    "    today = datetime.datetime.now()\n",
    "    buy_days = [2]  #0 monday, 1 tuesday 2 wednesday 3 thursday\n",
    "    trade_time = datetime.time(15, 59, 28) #15, 59, 28\n",
    "\n",
    "    # Check if day and time matches criteria above\n",
    "    if now.weekday() in buy_days and \\\n",
    "       now.time().hour == trade_time.hour and \\\n",
    "       now.time().minute == trade_time.minute and \\\n",
    "       now.time().second == trade_time.second:\n",
    "       \n",
    "        # Check if buy trade already been executed today\n",
    "        if last_buy_trade_date == now.date():\n",
    "            print(\"Buy Trade already executed today.\")\n",
    "            return\n",
    "\n",
    "        # Define contract & order\n",
    "        contract = Future('MNQ', '202503', 'CME')\n",
    "        order = MarketOrder(\"Buy\", 3)  \n",
    "\n",
    "        # Place trade\n",
    "        ib.placeOrder(contract, order)\n",
    "        print(\"Buy Order Placed.\", today.strftime('%Y-%m-%d %H:%M:%S'))\n",
    "\n",
    "        # Log trade\n",
    "        logging.info(f\"Executed Trade: {today.strftime('%Y-%m-%d %H:%M:%S')} - Buy 3 ZO\")\n",
    "        \n",
    "        # Update the last trade date to avoid duplicate trades for the day\n",
    "        last_buy_trade_date = now.date()\n",
    "        return\n",
    "\n",
    "    print(\"No BUY Condition Met.\")\n",
    "\n",
    "def execute_sell_trade():\n",
    "    global last_sell_trade_date\n",
    "    now = datetime.datetime.now()\n",
    "    today = datetime.datetime.now()\n",
    "    buy_days = [3]  \n",
    "    trade_time = datetime.time(9, 29, 28) #9 29 28\n",
    "\n",
    "    # Check if day and time matches criteria above\n",
    "    if now.weekday() in buy_days and \\\n",
    "       now.time().hour == trade_time.hour and \\\n",
    "       now.time().minute == trade_time.minute and \\\n",
    "       now.time().second == trade_time.second:\n",
    "       \n",
    "        # Check if trade already been executed today\n",
    "        if last_sell_trade_date == now.date():\n",
    "            print(\"Sell Trade Already executed today.\")\n",
    "            return\n",
    "\n",
    "        # Define contract & order\n",
    "        contract = Future('MNQ', '202503', 'CME')\n",
    "        order = MarketOrder(\"Sell\", 3)  \n",
    "\n",
    "        # Place trade\n",
    "        ib.placeOrder(contract, order)\n",
    "        print(\"Sell Order Placed.\", today.strftime('%Y-%m-%d %H:%M:%S'))\n",
    "\n",
    "        # Log trade\n",
    "        logging.info(f\"Executed Trade: {today.strftime('%Y-%m-%d %H:%M:%S')} - Buy 3 ZO\")\n",
    "        \n",
    "        # Update the last trade date to avoid duplicate trades for the day\n",
    "        last_sell_trade_date = now.date()\n",
    "        return\n",
    "\n",
    "    print(\"No SELL Condition Met.\")\n",
    "\n",
    "schedule.every().day.at(\"15:59:28\").do(execute_buy_trade) #15:59:28\n",
    "schedule.every().day.at(\"09:29:28\").do(execute_sell_trade) #09:29:28\n",
    "\n",
    "# Keep scheduler running\n",
    "while True:\n",
    "    schedule.run_pending()\n",
    "    time.sleep(0.50)"
   ]
  },
  {
   "cell_type": "markdown",
   "id": "82089c6f",
   "metadata": {},
   "source": [
    "# DA (Milk) 1pm Algo"
   ]
  },
  {
   "cell_type": "code",
   "execution_count": 50,
   "id": "05edc02b",
   "metadata": {
    "scrolled": true
   },
   "outputs": [
    {
     "name": "stdout",
     "output_type": "stream",
     "text": [
      "Midpoint calculated: nan\n"
     ]
    }
   ],
   "source": [
    "quote = ib.reqMktData(contract, \"\", False, False)\n",
    "\n",
    "ib.sleep(0.25)\n",
    "\n",
    "# Ensure bid and ask data are available\n",
    "if quote.bid is not None and quote.ask is not None:\n",
    "    midpoint = (quote.bid + quote.ask) / 2\n",
    "    print(f\"Midpoint calculated: {midpoint}\")"
   ]
  },
  {
   "cell_type": "code",
   "execution_count": 48,
   "id": "d81c6bbb",
   "metadata": {},
   "outputs": [
    {
     "name": "stdout",
     "output_type": "stream",
     "text": [
      "Executing Trade on 2025-02-14 10:54:37\n",
      "Trade executed.\n",
      "Not a SELL trade day or wrong time.\n",
      "Not a BUY trade day or wrong time.\n",
      "Not a SELL trade day or wrong time.\n",
      "Not a BUY trade day or wrong time.\n",
      "Not a SELL trade day or wrong time.\n",
      "Not a BUY trade day or wrong time.\n",
      "Not a SELL trade day or wrong time.\n",
      "Not a BUY trade day or wrong time.\n",
      "Not a BUY trade day or wrong time.\n",
      "Not a SELL trade day or wrong time.\n",
      "Not a SELL trade day or wrong time.\n",
      "Not a BUY trade day or wrong time.\n",
      "Not a SELL trade day or wrong time.\n",
      "Not a BUY trade day or wrong time.\n",
      "Executing Trade on 2025-02-14 10:55:37\n",
      "Trade executed.\n",
      "Not a BUY trade day or wrong time.\n",
      "Not a SELL trade day or wrong time.\n",
      "Not a BUY trade day or wrong time.\n",
      "Not a SELL trade day or wrong time.\n",
      "Not a BUY trade day or wrong time.\n",
      "Not a SELL trade day or wrong time.\n",
      "Not a BUY trade day or wrong time.\n",
      "Not a SELL trade day or wrong time.\n",
      "Not a BUY trade day or wrong time.\n",
      "Not a SELL trade day or wrong time.\n",
      "Not a BUY trade day or wrong time.\n",
      "Not a SELL trade day or wrong time.\n"
     ]
    },
    {
     "ename": "KeyboardInterrupt",
     "evalue": "",
     "output_type": "error",
     "traceback": [
      "\u001b[1;31m---------------------------------------------------------------------------\u001b[0m",
      "\u001b[1;31mKeyboardInterrupt\u001b[0m                         Traceback (most recent call last)",
      "\u001b[1;32m~\\AppData\\Local\\Temp\\ipykernel_88384\\3138006734.py\u001b[0m in \u001b[0;36m<module>\u001b[1;34m\u001b[0m\n\u001b[0;32m     57\u001b[0m \u001b[1;32mwhile\u001b[0m \u001b[1;32mTrue\u001b[0m\u001b[1;33m:\u001b[0m\u001b[1;33m\u001b[0m\u001b[1;33m\u001b[0m\u001b[0m\n\u001b[0;32m     58\u001b[0m     \u001b[0mschedule\u001b[0m\u001b[1;33m.\u001b[0m\u001b[0mrun_pending\u001b[0m\u001b[1;33m(\u001b[0m\u001b[1;33m)\u001b[0m\u001b[1;33m\u001b[0m\u001b[1;33m\u001b[0m\u001b[0m\n\u001b[1;32m---> 59\u001b[1;33m     \u001b[0mtime\u001b[0m\u001b[1;33m.\u001b[0m\u001b[0msleep\u001b[0m\u001b[1;33m(\u001b[0m\u001b[1;36m30\u001b[0m\u001b[1;33m)\u001b[0m  \u001b[1;31m# Check every 30 seconds\u001b[0m\u001b[1;33m\u001b[0m\u001b[1;33m\u001b[0m\u001b[0m\n\u001b[0m",
      "\u001b[1;31mKeyboardInterrupt\u001b[0m: "
     ]
    }
   ],
   "source": [
    "def execute_buy_trade():\n",
    "    today = datetime.datetime.now()\n",
    "    buy_days = [0,1,2,3,4] # 0 = monday, 2 = wednesday, 3 = Thursday \n",
    "    trade_time = datetime.time(10, 54)  \n",
    "\n",
    "    if today.weekday() in buy_days and today.time().hour == trade_time.hour and today.time().minute == trade_time.minute:\n",
    "        print(f\"Executing Trade on {today.strftime('%Y-%m-%d %H:%M:%S')}\")\n",
    "\n",
    "        # Define contract\n",
    "        contract = Future(\"DA\", \"202503\", \"CME\")\n",
    "        order = MarketOrder(\"BUY\", 2)\n",
    "        \n",
    "        # Specify the adaptive algorithm:\n",
    "        order.algoStrategy = \"Adaptive\"\n",
    "        # Optionally, add algorithm parameters if needed. For example:\n",
    "        order.algoParams = [TagValue(\"adaptivePriority\", \"Patient\")]\n",
    "\n",
    "        # Place trade\n",
    "        ib.placeOrder(contract, order)\n",
    "        print(\"Trade executed.\")\n",
    "\n",
    "        # Log trade\n",
    "        logging.info(f\"Executed Trade: {today.strftime('%Y-%m-%d %H:%M:%S')} - Buy 5 MNQ\")\n",
    "        return\n",
    "\n",
    "    print(\"Not a BUY trade day or wrong time.\")\n",
    "\n",
    "def execute_sell_trade():\n",
    "    today = datetime.datetime.now()\n",
    "    sell_days = [0,1,2,3,4] # 0 = monday, 2 = wednesday, 3 = Thursday \n",
    "    trade_time = datetime.time(10, 55)  \n",
    "\n",
    "    if today.weekday() in sell_days and today.time().hour == trade_time.hour and today.time().minute == trade_time.minute:\n",
    "        print(f\"Executing Trade on {today.strftime('%Y-%m-%d %H:%M:%S')}\")\n",
    "\n",
    "        # Define contract\n",
    "        contract = Future(\"DA\", \"202503\", \"CME\")\n",
    "        order = MarketOrder(\"SELL\", 2)\n",
    "\n",
    "        # Place trade\n",
    "        ib.placeOrder(contract, order)\n",
    "        print(\"Trade executed.\")\n",
    "\n",
    "        # Log trade\n",
    "        logging.info(f\"Executed Trade: {today.strftime('%Y-%m-%d %H:%M:%S')} - Sell 5 MNQ\")\n",
    "        return\n",
    "\n",
    "    print(\"Not a SELL trade day or wrong time.\")\n",
    "    \n",
    "# Schedule both functions to run every minute\n",
    "schedule.every().minute.do(execute_buy_trade)\n",
    "schedule.every().minute.do(execute_sell_trade)\n",
    "\n",
    "# Keep scheduler running\n",
    "while True:\n",
    "    schedule.run_pending()\n",
    "    time.sleep(30)  # Check every 30 seconds"
   ]
  },
  {
   "cell_type": "markdown",
   "id": "55bc387a",
   "metadata": {},
   "source": [
    "###### This next step is required. Basically it seems the df doesn't know which timezone to use\n",
    "And when you try to get data (generate a df) with data anything less then daily candles you get an error:\n"
   ]
  },
  {
   "attachments": {
    "image.png": {
     "image/png": "[encoded data removed]"
    }
   },
   "cell_type": "markdown",
   "id": "6b9566d2",
   "metadata": {},
   "source": [
    "![image.png](attachment:image.png)"
   ]
  },
  {
   "cell_type": "markdown",
   "id": "451dc66e",
   "metadata": {},
   "source": [
    "###### Hence why we do this:\n",
    "###### Only needed for intraday data*"
   ]
  },
  {
   "cell_type": "code",
   "execution_count": 10,
   "id": "d58c2bd2",
   "metadata": {},
   "outputs": [
    {
     "ename": "AttributeError",
     "evalue": "'Index' object has no attribute 'tz_convert'",
     "output_type": "error",
     "traceback": [
      "\u001b[1;31m---------------------------------------------------------------------------\u001b[0m",
      "\u001b[1;31mAttributeError\u001b[0m                            Traceback (most recent call last)",
      "\u001b[1;32m~\\AppData\\Local\\Temp\\ipykernel_10484\\330564675.py\u001b[0m in \u001b[0;36m<module>\u001b[1;34m\u001b[0m\n\u001b[0;32m      2\u001b[0m \u001b[0mdf\u001b[0m \u001b[1;33m=\u001b[0m \u001b[0mdf\u001b[0m\u001b[1;33m.\u001b[0m\u001b[0mset_index\u001b[0m\u001b[1;33m(\u001b[0m\u001b[1;34m'date'\u001b[0m\u001b[1;33m)\u001b[0m\u001b[1;33m\u001b[0m\u001b[1;33m\u001b[0m\u001b[0m\n\u001b[0;32m      3\u001b[0m \u001b[1;31m#convert to EST timezone\u001b[0m\u001b[1;33m\u001b[0m\u001b[1;33m\u001b[0m\u001b[0m\n\u001b[1;32m----> 4\u001b[1;33m \u001b[0mdf\u001b[0m\u001b[1;33m.\u001b[0m\u001b[0mindex\u001b[0m \u001b[1;33m=\u001b[0m \u001b[0mdf\u001b[0m\u001b[1;33m.\u001b[0m\u001b[0mindex\u001b[0m\u001b[1;33m.\u001b[0m\u001b[0mtz_convert\u001b[0m\u001b[1;33m(\u001b[0m\u001b[1;34m'US/Eastern'\u001b[0m\u001b[1;33m)\u001b[0m\u001b[1;33m\u001b[0m\u001b[1;33m\u001b[0m\u001b[0m\n\u001b[0m",
      "\u001b[1;31mAttributeError\u001b[0m: 'Index' object has no attribute 'tz_convert'"
     ]
    }
   ],
   "source": [
    "# Set date column as index\n",
    "df = df.set_index('date')\n",
    "#convert to EST timezone\n",
    "df.index = df.index.tz_convert('US/Eastern')"
   ]
  },
  {
   "cell_type": "code",
   "execution_count": 74,
   "id": "2838b3c2",
   "metadata": {},
   "outputs": [],
   "source": [
    "#df.reset_index(inplace=True)"
   ]
  },
  {
   "cell_type": "code",
   "execution_count": 13,
   "id": "efb01495",
   "metadata": {},
   "outputs": [
    {
     "data": {
      "text/html": [
       "<div>\n",
       "<style scoped>\n",
       "    .dataframe tbody tr th:only-of-type {\n",
       "        vertical-align: middle;\n",
       "    }\n",
       "\n",
       "    .dataframe tbody tr th {\n",
       "        vertical-align: top;\n",
       "    }\n",
       "\n",
       "    .dataframe thead th {\n",
       "        text-align: right;\n",
       "    }\n",
       "</style>\n",
       "<table border=\"1\" class=\"dataframe\">\n",
       "  <thead>\n",
       "    <tr style=\"text-align: right;\">\n",
       "      <th></th>\n",
       "      <th>open</th>\n",
       "      <th>high</th>\n",
       "      <th>low</th>\n",
       "      <th>close</th>\n",
       "      <th>volume</th>\n",
       "      <th>average</th>\n",
       "      <th>barCount</th>\n",
       "    </tr>\n",
       "    <tr>\n",
       "      <th>date</th>\n",
       "      <th></th>\n",
       "      <th></th>\n",
       "      <th></th>\n",
       "      <th></th>\n",
       "      <th></th>\n",
       "      <th></th>\n",
       "      <th></th>\n",
       "    </tr>\n",
       "  </thead>\n",
       "  <tbody>\n",
       "    <tr>\n",
       "      <th>2025-01-27</th>\n",
       "      <td>5998.25</td>\n",
       "      <td>6056.50</td>\n",
       "      <td>5996.75</td>\n",
       "      <td>6050.25</td>\n",
       "      <td>1688108.0</td>\n",
       "      <td>6028.825</td>\n",
       "      <td>581295</td>\n",
       "    </tr>\n",
       "    <tr>\n",
       "      <th>2025-01-28</th>\n",
       "      <td>6057.50</td>\n",
       "      <td>6105.50</td>\n",
       "      <td>6023.50</td>\n",
       "      <td>6091.25</td>\n",
       "      <td>1279360.0</td>\n",
       "      <td>6077.275</td>\n",
       "      <td>420786</td>\n",
       "    </tr>\n",
       "    <tr>\n",
       "      <th>2025-01-29</th>\n",
       "      <td>6087.50</td>\n",
       "      <td>6091.25</td>\n",
       "      <td>6042.25</td>\n",
       "      <td>6044.50</td>\n",
       "      <td>777836.0</td>\n",
       "      <td>6071.825</td>\n",
       "      <td>286548</td>\n",
       "    </tr>\n",
       "  </tbody>\n",
       "</table>\n",
       "</div>"
      ],
      "text/plain": [
       "               open     high      low    close     volume   average  barCount\n",
       "date                                                                         \n",
       "2025-01-27  5998.25  6056.50  5996.75  6050.25  1688108.0  6028.825    581295\n",
       "2025-01-28  6057.50  6105.50  6023.50  6091.25  1279360.0  6077.275    420786\n",
       "2025-01-29  6087.50  6091.25  6042.25  6044.50   777836.0  6071.825    286548"
      ]
     },
     "execution_count": 13,
     "metadata": {},
     "output_type": "execute_result"
    }
   ],
   "source": [
    "df.tail(3)"
   ]
  },
  {
   "cell_type": "code",
   "execution_count": 17,
   "id": "55d06182",
   "metadata": {
    "scrolled": false
   },
   "outputs": [
    {
     "data": {
      "text/plain": [
       "<AxesSubplot:xlabel='date'>"
      ]
     },
     "execution_count": 17,
     "metadata": {},
     "output_type": "execute_result"
    }
   ],
   "source": [
    "df['close'].plot()"
   ]
  },
  {
   "cell_type": "code",
   "execution_count": 18,
   "id": "077cc027",
   "metadata": {},
   "outputs": [],
   "source": [
    "# Create Return and volatility column\n",
    "df['Return'] = df['close'].pct_change()*100\n",
    "df['Volatility'] = df['Return'].rolling(30).std()*np.sqrt(252)"
   ]
  },
  {
   "cell_type": "code",
   "execution_count": 19,
   "id": "7028139e",
   "metadata": {},
   "outputs": [
    {
     "ename": "AttributeError",
     "evalue": "'Index' object has no attribute 'strftime'",
     "output_type": "error",
     "traceback": [
      "\u001b[1;31m---------------------------------------------------------------------------\u001b[0m",
      "\u001b[1;31mAttributeError\u001b[0m                            Traceback (most recent call last)",
      "\u001b[1;32m~\\AppData\\Local\\Temp\\ipykernel_10484\\702030541.py\u001b[0m in \u001b[0;36m<module>\u001b[1;34m\u001b[0m\n\u001b[0;32m      1\u001b[0m \u001b[1;31m# Extract hour and minute into a new column called 'time'\u001b[0m\u001b[1;33m\u001b[0m\u001b[1;33m\u001b[0m\u001b[0m\n\u001b[1;32m----> 2\u001b[1;33m \u001b[0mdf\u001b[0m\u001b[1;33m[\u001b[0m\u001b[1;34m'time'\u001b[0m\u001b[1;33m]\u001b[0m \u001b[1;33m=\u001b[0m \u001b[0mdf\u001b[0m\u001b[1;33m.\u001b[0m\u001b[0mindex\u001b[0m\u001b[1;33m.\u001b[0m\u001b[0mstrftime\u001b[0m\u001b[1;33m(\u001b[0m\u001b[1;34m'%H:%M'\u001b[0m\u001b[1;33m)\u001b[0m\u001b[1;33m\u001b[0m\u001b[1;33m\u001b[0m\u001b[0m\n\u001b[0m",
      "\u001b[1;31mAttributeError\u001b[0m: 'Index' object has no attribute 'strftime'"
     ]
    }
   ],
   "source": [
    "# Extract hour and minute into a new column called 'time'\n",
    "df['time'] = df.index.strftime('%H:%M')"
   ]
  },
  {
   "cell_type": "code",
   "execution_count": 35,
   "id": "a4208ffb",
   "metadata": {},
   "outputs": [
    {
     "data": {
      "text/html": [
       "<div>\n",
       "<style scoped>\n",
       "    .dataframe tbody tr th:only-of-type {\n",
       "        vertical-align: middle;\n",
       "    }\n",
       "\n",
       "    .dataframe tbody tr th {\n",
       "        vertical-align: top;\n",
       "    }\n",
       "\n",
       "    .dataframe thead th {\n",
       "        text-align: right;\n",
       "    }\n",
       "</style>\n",
       "<table border=\"1\" class=\"dataframe\">\n",
       "  <thead>\n",
       "    <tr style=\"text-align: right;\">\n",
       "      <th></th>\n",
       "      <th>open</th>\n",
       "      <th>high</th>\n",
       "      <th>low</th>\n",
       "      <th>close</th>\n",
       "      <th>volume</th>\n",
       "      <th>average</th>\n",
       "      <th>barCount</th>\n",
       "      <th>Return</th>\n",
       "      <th>Volatility</th>\n",
       "      <th>time</th>\n",
       "    </tr>\n",
       "    <tr>\n",
       "      <th>date</th>\n",
       "      <th></th>\n",
       "      <th></th>\n",
       "      <th></th>\n",
       "      <th></th>\n",
       "      <th></th>\n",
       "      <th></th>\n",
       "      <th></th>\n",
       "      <th></th>\n",
       "      <th></th>\n",
       "      <th></th>\n",
       "    </tr>\n",
       "  </thead>\n",
       "  <tbody>\n",
       "    <tr>\n",
       "      <th>2024-07-12 09:40:00-04:00</th>\n",
       "      <td>5773.25</td>\n",
       "      <td>5773.25</td>\n",
       "      <td>5773.25</td>\n",
       "      <td>5773.25</td>\n",
       "      <td>1.0</td>\n",
       "      <td>5773.25</td>\n",
       "      <td>1</td>\n",
       "      <td>NaN</td>\n",
       "      <td>NaN</td>\n",
       "      <td>09:40</td>\n",
       "    </tr>\n",
       "    <tr>\n",
       "      <th>2024-07-12 09:45:00-04:00</th>\n",
       "      <td>5773.25</td>\n",
       "      <td>5773.25</td>\n",
       "      <td>5773.25</td>\n",
       "      <td>5773.25</td>\n",
       "      <td>0.0</td>\n",
       "      <td>5773.25</td>\n",
       "      <td>0</td>\n",
       "      <td>0.0</td>\n",
       "      <td>NaN</td>\n",
       "      <td>09:45</td>\n",
       "    </tr>\n",
       "    <tr>\n",
       "      <th>2024-07-12 09:50:00-04:00</th>\n",
       "      <td>5773.25</td>\n",
       "      <td>5773.25</td>\n",
       "      <td>5773.25</td>\n",
       "      <td>5773.25</td>\n",
       "      <td>0.0</td>\n",
       "      <td>5773.25</td>\n",
       "      <td>0</td>\n",
       "      <td>0.0</td>\n",
       "      <td>NaN</td>\n",
       "      <td>09:50</td>\n",
       "    </tr>\n",
       "  </tbody>\n",
       "</table>\n",
       "</div>"
      ],
      "text/plain": [
       "                              open     high      low    close  volume  \\\n",
       "date                                                                    \n",
       "2024-07-12 09:40:00-04:00  5773.25  5773.25  5773.25  5773.25     1.0   \n",
       "2024-07-12 09:45:00-04:00  5773.25  5773.25  5773.25  5773.25     0.0   \n",
       "2024-07-12 09:50:00-04:00  5773.25  5773.25  5773.25  5773.25     0.0   \n",
       "\n",
       "                           average  barCount  Return  Volatility   time  \n",
       "date                                                                     \n",
       "2024-07-12 09:40:00-04:00  5773.25         1     NaN         NaN  09:40  \n",
       "2024-07-12 09:45:00-04:00  5773.25         0     0.0         NaN  09:45  \n",
       "2024-07-12 09:50:00-04:00  5773.25         0     0.0         NaN  09:50  "
      ]
     },
     "execution_count": 35,
     "metadata": {},
     "output_type": "execute_result"
    }
   ],
   "source": [
    "df.head(3)"
   ]
  },
  {
   "cell_type": "code",
   "execution_count": 36,
   "id": "3a3ab527",
   "metadata": {},
   "outputs": [],
   "source": [
    "# Group by the time, and find the mean return. same for volatility\n",
    "df1 = df.groupby('time')['Return'].mean()\n",
    "df2 = df.groupby('time')['Volatility'].mean()"
   ]
  },
  {
   "cell_type": "code",
   "execution_count": 37,
   "id": "8d8c080a",
   "metadata": {
    "scrolled": false
   },
   "outputs": [
    {
     "data": {
      "text/plain": [
       "Text(0.5, 1.0, 'Mean Return by Time')"
      ]
     },
     "execution_count": 37,
     "metadata": {},
     "output_type": "execute_result"
    },
    {
     "data": {
      "image/png": "[encoded data removed]",
      "text/plain": [
       "<Figure size 1200x700 with 1 Axes>"
      ]
     },
     "metadata": {},
     "output_type": "display_data"
    }
   ],
   "source": [
    "df1.plot(kind='bar', figsize=(12,7))\n",
    "plt.title('Mean Return by Time')"
   ]
  },
  {
   "cell_type": "code",
   "execution_count": 38,
   "id": "383e1a88",
   "metadata": {},
   "outputs": [
    {
     "data": {
      "text/plain": [
       "Text(0.5, 1.0, 'Intraday Volatility')"
      ]
     },
     "execution_count": 38,
     "metadata": {},
     "output_type": "execute_result"
    },
    {
     "data": {
      "image/png": "[encoded data removed]",
      "text/plain": [
       "<Figure size 1100x700 with 1 Axes>"
      ]
     },
     "metadata": {},
     "output_type": "display_data"
    }
   ],
   "source": [
    "df2.plot(kind = \"line\", figsize = (11,7))\n",
    "plt.title('Intraday Volatility')"
   ]
  },
  {
   "cell_type": "code",
   "execution_count": 39,
   "id": "9d7396aa",
   "metadata": {
    "scrolled": false
   },
   "outputs": [
    {
     "data": {
      "text/plain": [
       "Text(0.5, 1.0, 'Cumulative Return for 11:00-11:30')"
      ]
     },
     "execution_count": 39,
     "metadata": {},
     "output_type": "execute_result"
    },
    {
     "data": {
      "image/png": "[encoded data removed]",
      "text/plain": [
       "<Figure size 640x480 with 1 Axes>"
      ]
     },
     "metadata": {},
     "output_type": "display_data"
    }
   ],
   "source": [
    "#Plot cumulative returns for specific time windows\n",
    "df[df['time']=='11:00']['Return'].cumsum().plot()\n",
    "plt.title('Cumulative Return for 11:00-11:30')"
   ]
  },
  {
   "cell_type": "markdown",
   "id": "df985e3d",
   "metadata": {},
   "source": [
    "### Start bt Backtesting"
   ]
  },
  {
   "cell_type": "markdown",
   "id": "72bc0114",
   "metadata": {},
   "source": [
    "The following image can be used as a base case for all backtests, this is a simple starting point which is a buy and hold strategy:"
   ]
  },
  {
   "attachments": {
    "image.png": {
     "image/png": "[encoded data removed]"
    }
   },
   "cell_type": "markdown",
   "id": "f6ec3ead",
   "metadata": {},
   "source": [
    "![image.png](attachment:image.png)"
   ]
  },
  {
   "cell_type": "markdown",
   "id": "b06c9951",
   "metadata": {},
   "source": [
    "###### I start first with the logic or signal for the strategy, this is seperate from the actual bt code"
   ]
  },
  {
   "cell_type": "code",
   "execution_count": 14,
   "id": "96cca0be",
   "metadata": {},
   "outputs": [],
   "source": [
    "# logic for identifying the last 5 trading days of each month\n",
    "df['Last5Days'] = df.index.to_series().apply(\n",
    "    lambda x: pd.Timestamp(x).is_month_end or \n",
    "              pd.Timestamp(x + pd.offsets.BDay(1)).is_month_end or \n",
    "              pd.Timestamp(x + pd.offsets.BDay(2)).is_month_end or \n",
    "              pd.Timestamp(x + pd.offsets.BDay(3)).is_month_end or \n",
    "              pd.Timestamp(x + pd.offsets.BDay(4)).is_month_end\n",
    ")"
   ]
  },
  {
   "cell_type": "code",
   "execution_count": 15,
   "id": "a7f445f6",
   "metadata": {},
   "outputs": [],
   "source": [
    "# logic for identifying the first 5 trading days of the month (short signal)\n",
    "df['First5Days'] = df.index.to_series().apply(\n",
    "    lambda x: x.day <= 5\n",
    ")"
   ]
  },
  {
   "cell_type": "code",
   "execution_count": 16,
   "id": "1775d3bc",
   "metadata": {},
   "outputs": [],
   "source": [
    "df['LongDays'] = df.index.to_series().apply(\n",
    "    lambda x: x.day <= 5\n",
    ")"
   ]
  },
  {
   "cell_type": "code",
   "execution_count": 17,
   "id": "665d44c9",
   "metadata": {},
   "outputs": [],
   "source": [
    "# Create price dataframe with only closing price columns\n",
    "price_data = df[['Close']] # make sure to use 2 square brackets idk why tho"
   ]
  },
  {
   "cell_type": "code",
   "execution_count": 18,
   "id": "a04b05db",
   "metadata": {},
   "outputs": [],
   "source": [
    "# Prepare the signal DataFrame (align with Close column)\n",
    "signal_df = pd.DataFrame(index=price_data.index, data={'Close': df['Last5Days']})\n",
    "short_signal_df = pd.DataFrame(index=price_data.index, data={'Close': df['First5Days']})"
   ]
  },
  {
   "cell_type": "markdown",
   "id": "ef5b3bc7",
   "metadata": {},
   "source": [
    "###### Now begins the bt code for defining and running the backtest"
   ]
  },
  {
   "cell_type": "code",
   "execution_count": 19,
   "id": "92f41531",
   "metadata": {},
   "outputs": [],
   "source": [
    "# Define the strategy\n",
    "strategy = bt.Strategy('Long ZN Last 5 Days of Month',\n",
    "                       [bt.algos.RunDaily(),                   # Run logic daily\n",
    "                        bt.algos.SelectWhere(signal_df),       # Use DataFrame with boolean variables (true/false) for signal\n",
    "                        bt.algos.WeighEqually(),               # Allocate equally\n",
    "                        bt.algos.Rebalance()])  "
   ]
  },
  {
   "cell_type": "code",
   "execution_count": 20,
   "id": "281ff1ca",
   "metadata": {},
   "outputs": [],
   "source": [
    "# Define the buy-and-hold strategy\n",
    "buy_and_hold = bt.Strategy('ZN',\n",
    "                           [bt.algos.RunOnce(),                   \n",
    "                            bt.algos.SelectAll(),                 \n",
    "                            bt.algos.WeighEqually(),            \n",
    "                            bt.algos.Rebalance()]) "
   ]
  },
  {
   "cell_type": "code",
   "execution_count": 21,
   "id": "57bbc1ea",
   "metadata": {},
   "outputs": [],
   "source": [
    "# Create and run backtest\n",
    "backtest = bt.Backtest(strategy, price_data) #bt requires a dataframe with just one column of prices to run (price_data)\n",
    "\n",
    "# Create backtest for buy and hold\n",
    "backtest_buy_and_hold = bt.Backtest(buy_and_hold, price_data)"
   ]
  },
  {
   "cell_type": "code",
   "execution_count": 22,
   "id": "08b684de",
   "metadata": {},
   "outputs": [],
   "source": [
    "# Run both backtests\n",
    "result = bt.run(backtest, backtest_buy_and_hold)"
   ]
  },
  {
   "cell_type": "code",
   "execution_count": 23,
   "id": "a35a877a",
   "metadata": {},
   "outputs": [
    {
     "name": "stdout",
     "output_type": "stream",
     "text": [
      "Stat                 Long ZN Last 5 Days of Month    ZN\n",
      "-------------------  ------------------------------  ----------\n",
      "Start                2015-01-11                      2015-01-11\n",
      "End                  2025-01-10                      2025-01-10\n",
      "Risk-free rate       0.00%                           0.00%\n",
      "\n",
      "Total Return         17.49%                          -16.74%\n",
      "Daily Sharpe         0.75                            -0.31\n",
      "Daily Sortino        1.29                            -0.51\n",
      "CAGR                 1.63%                           -1.82%\n",
      "Max Drawdown         -2.33%                          -24.87%\n",
      "Calmar Ratio         0.70                            -0.07\n",
      "\n",
      "MTD                  0.06%                           -1.19%\n",
      "3m                   -0.79%                          -4.13%\n",
      "6m                   0.81%                           -2.76%\n",
      "YTD                  0.06%                           -1.19%\n",
      "1Y                   4.09%                           -3.95%\n",
      "3Y (ann.)            3.64%                           -5.70%\n",
      "5Y (ann.)            2.62%                           -3.60%\n",
      "10Y (ann.)           1.63%                           -1.82%\n",
      "Since Incep. (ann.)  1.63%                           -1.82%\n",
      "\n",
      "Daily Sharpe         0.75                            -0.31\n",
      "Daily Sortino        1.29                            -0.51\n",
      "Daily Mean (ann.)    1.64%                           -1.68%\n",
      "Daily Vol (ann.)     2.19%                           5.51%\n",
      "Daily Skew           2.14                            0.19\n",
      "Daily Kurt           29.25                           2.41\n",
      "Best Day             1.78%                           1.99%\n",
      "Worst Day            -1.00%                          -1.45%\n",
      "\n",
      "Monthly Sharpe       0.86                            -0.34\n",
      "Monthly Sortino      1.91                            -0.55\n",
      "Monthly Mean (ann.)  1.63%                           -1.83%\n",
      "Monthly Vol (ann.)   1.89%                           5.38%\n",
      "Monthly Skew         0.49                            -0.01\n",
      "Monthly Kurt         0.71                            0.08\n",
      "Best Month           2.10%                           3.37%\n",
      "Worst Month          -1.07%                          -4.12%\n",
      "\n",
      "Yearly Sharpe        1.06                            -0.24\n",
      "Yearly Sortino       21.13                           -0.33\n",
      "Yearly Mean          1.63%                           -1.41%\n",
      "Yearly Vol           1.53%                           5.85%\n",
      "Yearly Skew          0.14                            -0.71\n",
      "Yearly Kurt          -1.58                           1.84\n",
      "Best Year            4.03%                           7.52%\n",
      "Worst Year           -0.24%                          -13.93%\n",
      "\n",
      "Avg. Drawdown        -0.71%                          -3.52%\n",
      "Avg. Drawdown Days   87.70                           240.40\n",
      "Avg. Up Month        0.49%                           1.25%\n",
      "Avg. Down Month      -0.35%                          -1.19%\n",
      "Win Year %           80.00%                          30.00%\n",
      "Win 12m %            74.55%                          38.18%\n"
     ]
    },
    {
     "data": {
      "text/plain": [
       "<AxesSubplot:title={'center':'Equity Progression'}>"
      ]
     },
     "execution_count": 23,
     "metadata": {},
     "output_type": "execute_result"
    },
    {
     "data": {
      "image/png": "[encoded data removed]",
      "text/plain": [
       "<Figure size 1500x500 with 1 Axes>"
      ]
     },
     "metadata": {},
     "output_type": "display_data"
    }
   ],
   "source": [
    "# Display results\n",
    "result.display()\n",
    "result.plot()"
   ]
  },
  {
   "cell_type": "code",
   "execution_count": null,
   "id": "a95accff",
   "metadata": {},
   "outputs": [],
   "source": []
  }
 ],
 "metadata": {
  "kernelspec": {
   "display_name": "Python 3 (ipykernel)",
   "language": "python",
   "name": "python3"
  },
  "language_info": {
   "codemirror_mode": {
    "name": "ipython",
    "version": 3
   },
   "file_extension": ".py",
   "mimetype": "text/x-python",
   "name": "python",
   "nbconvert_exporter": "python",
   "pygments_lexer": "ipython3",
   "version": "3.9.13"
  }
 },
 "nbformat": 4,
 "nbformat_minor": 5
}
